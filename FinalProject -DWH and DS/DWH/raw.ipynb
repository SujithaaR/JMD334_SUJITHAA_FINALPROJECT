{
 "cells": [
  {
   "cell_type": "code",
   "execution_count": 1,
   "metadata": {},
   "outputs": [
    {
     "name": "stdout",
     "output_type": "stream",
     "text": [
      "Moved: C:\\Users\\SujithaaR\\Documents\\Final Project - Python Script-Generate files\\comments.csv to C:\\Users\\SujithaaR\\Documents\\FinalProject -DWH and DS\\DWH\\RAW\\comments.csv\n",
      "Moved: C:\\Users\\SujithaaR\\Documents\\Final Project - Python Script-Generate files\\courses.csv to C:\\Users\\SujithaaR\\Documents\\FinalProject -DWH and DS\\DWH\\RAW\\courses.csv\n",
      "Moved: C:\\Users\\SujithaaR\\Documents\\Final Project - Python Script-Generate files\\employees.csv to C:\\Users\\SujithaaR\\Documents\\FinalProject -DWH and DS\\DWH\\RAW\\employees.csv\n",
      "Moved: C:\\Users\\SujithaaR\\Documents\\Final Project - Python Script-Generate files\\modified_engagement.csv to C:\\Users\\SujithaaR\\Documents\\FinalProject -DWH and DS\\DWH\\RAW\\modified_engagement.csv\n",
      "Moved: C:\\Users\\SujithaaR\\Documents\\Final Project - Python Script-Generate files\\enrollment.csv to C:\\Users\\SujithaaR\\Documents\\FinalProject -DWH and DS\\DWH\\RAW\\enrollment.csv\n",
      "Moved: C:\\Users\\SujithaaR\\Documents\\Final Project - Python Script-Generate files\\feedback.csv to C:\\Users\\SujithaaR\\Documents\\FinalProject -DWH and DS\\DWH\\RAW\\feedback.csv\n",
      "Moved: C:\\Users\\SujithaaR\\Documents\\Final Project - Python Script-Generate files\\modified_engagement.csv to C:\\Users\\SujithaaR\\Documents\\FinalProject -DWH and DS\\DWH\\RAW\\modified_engagement.csv\n",
      "Moved: C:\\Users\\SujithaaR\\Documents\\Final Project - Python Script-Generate files\\quiz_results.csv to C:\\Users\\SujithaaR\\Documents\\FinalProject -DWH and DS\\DWH\\RAW\\quiz_results.csv\n",
      "All CSV files ingested into the RAW folder successfully!\n"
     ]
    }
   ],
   "source": [
    "import os\n",
    "import shutil\n",
    "import pandas as pd\n",
    "import numpy as np\n",
    "\n",
    "# Define the source directory where your CSV files are currently located\n",
    "source_dir = r\"C:\\Users\\SujithaaR\\Documents\\Final Project - Python Script-Generate files\"\n",
    "\n",
    "# Define the target RAW directory\n",
    "raw_dir = r\"C:\\Users\\SujithaaR\\Documents\\FinalProject -DWH and DS\\DWH\\RAW\"\n",
    "\n",
    "# Create the RAW directory if it doesn't exist\n",
    "os.makedirs(raw_dir, exist_ok=True)\n",
    "\n",
    "# Function to modify engagement.csv\n",
    "def modify_engagement_csv(source):\n",
    "    engagement_file = os.path.join(source, 'engagement.csv')\n",
    "    if os.path.exists(engagement_file):\n",
    "        # Load the CSV file\n",
    "        df = pd.read_csv(engagement_file)\n",
    "\n",
    "        # Check if 'engagement' column exists\n",
    "        if 'engagement' in df.columns:\n",
    "            # Introduce randomness: Flip some values in the engagement column\n",
    "            flip_rate = 0.1  # 10% of the values will be flipped\n",
    "            num_flips = int(len(df) * flip_rate)\n",
    "\n",
    "            # Randomly select indices to flip\n",
    "            flip_indices = np.random.choice(df.index, size=num_flips, replace=False)\n",
    "\n",
    "            # Flip the engagement values at the selected indices\n",
    "            df.loc[flip_indices, 'engagement'] = 1 - df.loc[flip_indices, 'engagement']\n",
    "\n",
    "            # Save the modified DataFrame back to a CSV\n",
    "            modified_file_path = os.path.join(source, 'modified_engagement.csv')\n",
    "            df.to_csv(modified_file_path, index=False)\n",
    "            return modified_file_path\n",
    "    return None\n",
    "\n",
    "# Function to move CSV files to the RAW folder\n",
    "def ingest_csv_to_raw(source, target):\n",
    "    # Modify engagement.csv first\n",
    "    modified_engagement_file = modify_engagement_csv(source)\n",
    "    \n",
    "    # List all files in the source directory\n",
    "    for file_name in os.listdir(source):\n",
    "        # Check if the file is a CSV\n",
    "        if file_name.endswith('.csv'):\n",
    "            # Define full file paths\n",
    "            source_file = os.path.join(source, file_name)\n",
    "            target_file = os.path.join(target, file_name)\n",
    "\n",
    "            # If it's the modified engagement file, use that instead\n",
    "            if file_name == 'engagement.csv' and modified_engagement_file:\n",
    "                source_file = modified_engagement_file\n",
    "                file_name = 'modified_engagement.csv'  # Rename for clarity\n",
    "                target_file = os.path.join(target, file_name)\n",
    "\n",
    "            # Move the file to the RAW directory\n",
    "            shutil.copy(source_file, target_file)\n",
    "            print(f'Moved: {source_file} to {target_file}')\n",
    "\n",
    "# Execute the ingestion\n",
    "ingest_csv_to_raw(source_dir, raw_dir)\n",
    "\n",
    "print(\"All CSV files ingested into the RAW folder successfully!\")\n"
   ]
  },
  {
   "cell_type": "code",
   "execution_count": null,
   "metadata": {},
   "outputs": [],
   "source": []
  }
 ],
 "metadata": {
  "kernelspec": {
   "display_name": "myenv",
   "language": "python",
   "name": "python3"
  },
  "language_info": {
   "codemirror_mode": {
    "name": "ipython",
    "version": 3
   },
   "file_extension": ".py",
   "mimetype": "text/x-python",
   "name": "python",
   "nbconvert_exporter": "python",
   "pygments_lexer": "ipython3",
   "version": "3.11.9"
  }
 },
 "nbformat": 4,
 "nbformat_minor": 2
}
